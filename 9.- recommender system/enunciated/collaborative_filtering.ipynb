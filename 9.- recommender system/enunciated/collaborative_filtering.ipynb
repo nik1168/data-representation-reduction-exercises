{
 "cells": [
  {
   "cell_type": "markdown",
   "metadata": {},
   "source": [
    "## Step 1: Load data and create masks"
   ]
  },
  {
   "cell_type": "code",
   "execution_count": 1,
   "metadata": {
    "jupyter": {
     "outputs_hidden": true
    }
   },
   "outputs": [
    {
     "ename": "SyntaxError",
     "evalue": "unexpected EOF while parsing (<ipython-input-1-170087f2eaa5>, line 44)",
     "output_type": "error",
     "traceback": [
      "\u001b[0;36m  File \u001b[0;32m\"<ipython-input-1-170087f2eaa5>\"\u001b[0;36m, line \u001b[0;32m44\u001b[0m\n\u001b[0;31m    # YOUR CODE GOES HERE\u001b[0m\n\u001b[0m                         ^\u001b[0m\n\u001b[0;31mSyntaxError\u001b[0m\u001b[0;31m:\u001b[0m unexpected EOF while parsing\n"
     ]
    }
   ],
   "source": [
    "from __future__ import print_function, division\n",
    "import numpy as np\n",
    "\n",
    "# criteria RMSE\n",
    "def RMSE(A, B, mask):\n",
    "    rmse = np.sqrt(np.sum(mask * (A - B)**2) / np.sum(mask))\n",
    "    return rmse\n",
    "\n",
    "# criteria MAE\n",
    "def MAE(A, B, mask):\n",
    "    mae = np.sum(mask * np.abs(A - B)) / np.sum(mask)\n",
    "    return mae\n",
    "\n",
    "def load_rating(fname,N=943,M=1682):\n",
    "    ''' load rating file with the format: UserID::MovieID::Rating::Timestamp\n",
    "    Can be used with MovieLens100K & MovieLens1M\n",
    "    Params:\n",
    "        - fname: file name\n",
    "        - N: number of users\n",
    "        - M: number of items (e.g. movies)\n",
    "    '''\n",
    "    R = np.zeros((N, M))\n",
    "    with open(fname, 'r') as fin:\n",
    "        lines = fin.readlines()\n",
    "        for line in lines:\n",
    "            splt = line.strip().split('\\t')\n",
    "            uid = int(splt[0]) - 1\n",
    "            mid = int(splt[1]) - 1\n",
    "            r = float(splt[2])\n",
    "            R[uid,mid] = r\n",
    "    return R\n",
    "\n",
    "\n",
    "# load training and testing sets\n",
    "data_train = load_rating(\"u1.base\").T\n",
    "data_test = load_rating(\"u1.test\").T\n",
    "n_movies_train,n_users_train = data_train.shape\n",
    "n_movies_test,n_users_test = data_test.shape\n",
    "\n",
    "# create mask matrix\n",
    "# X: The rating matrix with size (n_movies,n_users)\n",
    "# Return: Binary mask matrix where 1 indicates there is a rating and 0 vice versa\n",
    "def create_mask(X):\n",
    "    # YOUR CODE GOES HERE"
   ]
  },
  {
   "cell_type": "markdown",
   "metadata": {},
   "source": [
    "## Step 2: Implement functions to calculate cost and gradients"
   ]
  },
  {
   "cell_type": "code",
   "execution_count": null,
   "metadata": {
    "collapsed": true,
    "jupyter": {
     "outputs_hidden": true
    }
   },
   "outputs": [],
   "source": [
    "# This function computes the cost value that we want to minimize\n",
    "# THETA: A matrix contains users' feature\n",
    "# X: A matrix contains movies' feature\n",
    "# Y: A matrix contains ground truth (n_movies x n_users)\n",
    "# _lambda: Regularization parameter\n",
    "# mask: The binary mask matrix\n",
    "def compute_cost(X,THETA,Y,_lambda,mask):\n",
    "    assert X.shape[1] == THETA.shape[1]\n",
    "    assert X.shape[0]== Y.shape[0]\n",
    "    assert THETA.shape[0] == Y.shape[1]\n",
    "    assert Y.shape == mask.shape\n",
    "    return # YOUR CODE GOES HERE\n",
    "\n",
    "# This function computes partial derivatives of the cost function with regards to movie and user features\n",
    "# THETA: A matrix contains users' feature\n",
    "# X: A matrix contains movies' feature\n",
    "# Y: A matrix contains ground truth (n_movies x n_users)\n",
    "# _lambda: Regularization parameter\n",
    "# mask: The binary mask matrix\n",
    "# return: a tuple (grad_X,grad_THETA)\n",
    "def compute_gradient(X,THETA,Y,_lambda,mask):\n",
    "    assert X.shape[1] == THETA.shape[1]\n",
    "    assert X.shape[0]== Y.shape[0]\n",
    "    assert THETA.shape[0] == Y.shape[1]\n",
    "    assert Y.shape == mask.shape\n",
    "    grad_X = # YOUR CODE GOES HERE\n",
    "    grad_THETA = # YOUR CODE GOES HERE\n",
    "    return (grad_X,grad_THETA)"
   ]
  },
  {
   "cell_type": "markdown",
   "metadata": {},
   "source": [
    "## Step 3: Training"
   ]
  },
  {
   "cell_type": "code",
   "execution_count": null,
   "metadata": {
    "collapsed": true,
    "jupyter": {
     "outputs_hidden": true
    }
   },
   "outputs": [],
   "source": [
    "n_features = 10\n",
    "MOVIE_FEATURES = 0.25*np.random.randn(n_movies_train,n_features)\n",
    "USER_FEATURES = 0.25*np.random.randn(n_users_train,n_features)\n",
    "_lambda = 0.01\n",
    "mask = create_mask(data_train)\n",
    "alpha = 0.001\n",
    "training_epochs = 150\n",
    "counter = 0\n",
    "while counter < training_epochs:\n",
    "    # Compute gradients\n",
    "    grad_X,grad_THETA = # YOUR CODE GOES HERE\n",
    "    \n",
    "    # update parameters here\n",
    "    MOVIE_FEATURES = # YOUR CODE GOES HERE\n",
    "    USER_FEATURES = # YOUR CODE GOES HERE\n",
    "    \n",
    "    # compute cost function\n",
    "    cost = compute_cost(MOVIE_FEATURES,USER_FEATURES,data_train,_lambda,mask)\n",
    "    \n",
    "    # increase counter\n",
    "    counter += 1\n",
    "    print(\"epoch:\",counter,\"cost: \",cost)"
   ]
  },
  {
   "cell_type": "markdown",
   "metadata": {},
   "source": [
    "## Step 4: Make prediction"
   ]
  },
  {
   "cell_type": "code",
   "execution_count": null,
   "metadata": {
    "collapsed": true,
    "jupyter": {
     "outputs_hidden": true
    }
   },
   "outputs": [],
   "source": [
    "prediction = # YOUR CODE GOES HERE\n",
    "\n",
    "# Compute RMSE and MAE on the training set\n",
    "print(\"RMSE_train: \",RMSE(data_train,prediction,mask))\n",
    "print(\"MAE_train: \",MAE(data_train,prediction,mask))\n",
    "\n",
    "# Compute RMSE and MAE on the testing set\n",
    "mask_test = create_mask(data_test)\n",
    "print(\"RMSE_test: \",RMSE(data_test,prediction,mask_test))\n",
    "print(\"MAE_test: \",MAE(data_test,prediction,mask_test))"
   ]
  }
 ],
 "metadata": {
  "kernelspec": {
   "display_name": "Python 3",
   "language": "python",
   "name": "python3"
  },
  "language_info": {
   "codemirror_mode": {
    "name": "ipython",
    "version": 3
   },
   "file_extension": ".py",
   "mimetype": "text/x-python",
   "name": "python",
   "nbconvert_exporter": "python",
   "pygments_lexer": "ipython3",
   "version": "3.7.4"
  }
 },
 "nbformat": 4,
 "nbformat_minor": 4
}
