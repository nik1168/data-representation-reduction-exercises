{
 "cells": [
  {
   "cell_type": "code",
   "execution_count": null,
   "metadata": {
    "collapsed": true
   },
   "outputs": [],
   "source": [
    "from __future__ import absolute_import, division, print_function\n",
    "import tensorflow as tf\n",
    "from tensorflow import keras\n",
    "import numpy as np \n",
    "from sklearn.datasets import load_digits\n",
    "import matplotlib.pyplot as plt"
   ]
  },
  {
   "cell_type": "markdown",
   "metadata": {},
   "source": [
    "## Step 1: Load dataset"
   ]
  },
  {
   "cell_type": "code",
   "execution_count": null,
   "metadata": {
    "collapsed": true
   },
   "outputs": [],
   "source": [
    "num_classes = 10\n",
    "digits = load_digits(n_class=num_classes)\n",
    "x = digits.data\n",
    "y = digits.target\n",
    "\n",
    "H = 8\n",
    "W = 8\n",
    "C = 1\n",
    "# reshape x into a numpy array of images of size: height x width x number_of_channels\n",
    "### YOUR CODE HERE ###\n",
    "\n",
    "print(\"data shape: \",x.shape)\n",
    "print(\"class shape: \",y.shape)\n",
    "\n",
    "# Split the data into training and testing sets\n",
    "N_train = int(0.8 * x.shape[0])\n",
    "x_train = x[:N_train,:]\n",
    "y_train = y[:N_train]\n",
    "x_test = x[N_train:,:]\n",
    "y_test = y[N_train:]\n",
    "\n",
    "# Convert training labels to one-hot vector\n",
    "\n",
    "print(\"train label shape: \", y_train_onehot.shape)"
   ]
  },
  {
   "cell_type": "markdown",
   "metadata": {},
   "source": [
    "## Step 2: Build a CNN model to classify digits"
   ]
  },
  {
   "cell_type": "code",
   "execution_count": null,
   "metadata": {
    "collapsed": true
   },
   "outputs": [],
   "source": [
    "# First, define the based sequential model\n",
    "model = keras.models.Sequential()\n",
    "\n",
    "# Add the first convolutional layer:\n",
    "# A 2D Convolution layer with: \n",
    "#     32 filters \n",
    "#     kernel size: 3x3\n",
    "#     stride: 1\n",
    "#     padding scheme: 'same'\n",
    "#     use_bias: True\n",
    "#     activation: relu\n",
    "### YOUR CODE HERE ###\n",
    "\n",
    "# Add the second convolutional layer:\n",
    "# A 2D Convolution layer with: \n",
    "#     64 filters \n",
    "#     kernel size: 3x3\n",
    "#     stride: 1\n",
    "#     padding scheme: 'same'\n",
    "#     use_bias: True\n",
    "#     activation: relu\n",
    "### YOUR CODE HERE ###\n",
    "\n",
    "\n",
    "# Add dropout layer with rate = 0.75 \n",
    "### YOUR CODE HERE ###\n",
    "\n",
    "# Add 2D max pooling layer with pooling size = 2x2\n",
    "### YOUR CODE HERE ###\n",
    "\n",
    "# Add Flatten layer to reshape the output of the previous layer into 1D vectors\n",
    "### YOUR CODE HERE ###\n",
    "\n",
    "# Fully connected layers to perform the classification from the outputs of the previous layers\n",
    "# Add a fully connected layer with 10 output units, and softmax activation\n",
    "# (each hidden unit corresponds to one class, i.e. digit):\n",
    "### YOUR CODE HERE ###\n",
    "\n",
    "\n",
    "# Compile the model with 'categorical_crossentropy' loss function and \n",
    "# 'sgd' optimizer\n",
    "model.compile(optimizer='sgd',\n",
    "              loss='categorical_crossentropy',\n",
    "              metrics=['accuracy'])"
   ]
  },
  {
   "cell_type": "markdown",
   "metadata": {},
   "source": [
    "## Step 3: Train the model"
   ]
  },
  {
   "cell_type": "code",
   "execution_count": null,
   "metadata": {
    "collapsed": true
   },
   "outputs": [],
   "source": [
    "model.fit(x_train, y_train_onehot, epochs=10, batch_size=32)"
   ]
  },
  {
   "cell_type": "markdown",
   "metadata": {},
   "source": [
    "## Step 4: Evaluate the model"
   ]
  },
  {
   "cell_type": "code",
   "execution_count": null,
   "metadata": {
    "collapsed": true
   },
   "outputs": [],
   "source": [
    "scores = model.predict(x_test)\n",
    "y_pred = np.argmax(scores, axis=1)\n",
    "print(\"Accuracy={:.2f}\".format(np.mean(y_pred == y_test)))"
   ]
  },
  {
   "cell_type": "markdown",
   "metadata": {},
   "source": [
    "## Step 5: Visualize the classification results"
   ]
  },
  {
   "cell_type": "code",
   "execution_count": null,
   "metadata": {
    "collapsed": true
   },
   "outputs": [],
   "source": [
    "for selected_class in range(0,10):\n",
    "    x_visualize = x_test[y_pred == selected_class]\n",
    "    # plot some images of the digits\n",
    "    n_img_per_row = 10\n",
    "    img = np.zeros((10 * n_img_per_row, 10 * n_img_per_row))\n",
    "    for i in range(n_img_per_row):\n",
    "        ix = 10 * i + 1\n",
    "        for j in range(n_img_per_row):\n",
    "            iy = 10 * j + 1\n",
    "            if i * n_img_per_row + j < len(x_visualize):\n",
    "                img[ix:ix + 8, iy:iy + 8] = x_visualize[i * n_img_per_row + j].reshape((8, 8))\n",
    "    plt.imshow(img, cmap=plt.cm.binary)\n",
    "    plt.xticks([])\n",
    "    plt.yticks([])\n",
    "    plt.title('Test images predicted as \"{:}\"'.format(selected_class))\n",
    "    plt.show()"
   ]
  }
 ],
 "metadata": {
  "kernelspec": {
   "display_name": "Python 3",
   "language": "python",
   "name": "python3"
  },
  "language_info": {
   "codemirror_mode": {
    "name": "ipython",
    "version": 3
   },
   "file_extension": ".py",
   "mimetype": "text/x-python",
   "name": "python",
   "nbconvert_exporter": "python",
   "pygments_lexer": "ipython3",
   "version": "3.6.0"
  }
 },
 "nbformat": 4,
 "nbformat_minor": 2
}
