{
 "cells": [
  {
   "cell_type": "markdown",
   "metadata": {},
   "source": [
    "Run the below to set up the notebook, you need to have Tensorflow installed for this exercise."
   ]
  },
  {
   "cell_type": "code",
   "execution_count": null,
   "metadata": {},
   "outputs": [],
   "source": [
    "from __future__ import absolute_import, division, print_function\n",
    "import tensorflow as tf\n",
    "from tensorflow import keras\n",
    "import numpy as np \n",
    "from sklearn.datasets import load_digits\n",
    "import matplotlib.pyplot as plt"
   ]
  },
  {
   "cell_type": "markdown",
   "metadata": {},
   "source": [
    "## Step 1: Load dataset"
   ]
  },
  {
   "cell_type": "code",
   "execution_count": null,
   "metadata": {},
   "outputs": [],
   "source": [
    "num_classes = 10\n",
    "digits = load_digits(n_class=num_classes)\n",
    "x = digits.data\n",
    "y = digits.target\n",
    "n_samples, n_features = x.shape\n",
    "\n",
    "print(\"data shape: \",x.shape)\n",
    "print(\"class shape: \",y.shape)\n",
    "\n",
    "# Split the data into training and testing sets\n",
    "N_train = int(0.8 * x.shape[0])\n",
    "x_train = x[:N_train,:]\n",
    "y_train = y[:N_train]\n",
    "x_test = x[N_train:,:]\n",
    "y_test = y[N_train:]\n",
    "\n",
    "# Convert labels to one-hot vector\n",
    "y_train_onehot = ## Your code\n",
    "\n",
    "print(\"train label shape: \", y_train_onehot.shape)"
   ]
  },
  {
   "cell_type": "markdown",
   "metadata": {},
   "source": [
    "## Step 2: Build a neural network model to classify the digits\n",
    "One of the most simplest ways to build a neural network with Tensorflow is to use high-level interfaces from Keras"
   ]
  },
  {
   "cell_type": "code",
   "execution_count": null,
   "metadata": {},
   "outputs": [],
   "source": [
    "# First, define the based sequential model\n",
    "model = keras.models.Sequential()\n",
    "\n",
    "# Add the first fully connected layer with 100 hidden units, with ReLU activation.\n",
    "# As this is the first layer in your model, don't forget to include the 'input_shape' argument\n",
    "### YOUR CODE HERE ###\n",
    "\n",
    "# Add the second fully connected layer with 10 hidden units \n",
    "# (each hidden unit corresponds to one class, i.e. digit):\n",
    "### YOUR CODE HERE ###\n",
    "\n",
    "# Add 'softmax' activation layer to transform the score into class probabilities \n",
    "### YOUR CODE HERE ###\n",
    "\n",
    "# Compile the model with 'categorical_crossentropy' loss function and \n",
    "# 'sgd' optimizer\n",
    "model.compile(optimizer='sgd',\n",
    "              loss='categorical_crossentropy',\n",
    "              metrics=['accuracy'])"
   ]
  },
  {
   "cell_type": "markdown",
   "metadata": {},
   "source": [
    "## Step 3: Train the model"
   ]
  },
  {
   "cell_type": "code",
   "execution_count": null,
   "metadata": {
    "collapsed": true
   },
   "outputs": [],
   "source": [
    "model.fit(x_train, y_train_onehot, epochs=10, batch_size=32)"
   ]
  },
  {
   "cell_type": "markdown",
   "metadata": {},
   "source": [
    "## Step 4: Evaluate the model"
   ]
  },
  {
   "cell_type": "code",
   "execution_count": null,
   "metadata": {
    "collapsed": true
   },
   "outputs": [],
   "source": [
    "# Call 'predict' function from the model to get the predicted class probabilities\n",
    "### YOUR CODE HERE ###\n",
    "# Find the prediction (as the classes with highest probabilities)\n",
    "### YOUR CODE HERE ###\n",
    "\n",
    "# Calculate the prediction accuracy\n",
    "accuracy = ## your code\n",
    "print(\"Accuracy={:.2f}\".format(accuracy))"
   ]
  },
  {
   "cell_type": "markdown",
   "metadata": {},
   "source": [
    "## Step 5: Visualize the classification results"
   ]
  },
  {
   "cell_type": "code",
   "execution_count": null,
   "metadata": {
    "collapsed": true
   },
   "outputs": [],
   "source": [
    "for selected_class in range(0,10):\n",
    "    x_visualize = x_test[y_pred == selected_class]\n",
    "    # plot some images of the digits\n",
    "    n_img_per_row = 10\n",
    "    img = np.zeros((10 * n_img_per_row, 10 * n_img_per_row))\n",
    "    for i in range(n_img_per_row):\n",
    "        ix = 10 * i + 1\n",
    "        for j in range(n_img_per_row):\n",
    "            iy = 10 * j + 1\n",
    "            if i * n_img_per_row + j < len(x_visualize):\n",
    "                img[ix:ix + 8, iy:iy + 8] = x_visualize[i * n_img_per_row + j].reshape((8, 8))\n",
    "    plt.imshow(img, cmap=plt.cm.binary)\n",
    "    plt.xticks([])\n",
    "    plt.yticks([])\n",
    "    plt.title('Test images predicted as \"{:}\"'.format(selected_class))\n",
    "    plt.show()"
   ]
  }
 ],
 "metadata": {
  "kernelspec": {
   "display_name": "Python 3",
   "language": "python",
   "name": "python3"
  },
  "language_info": {
   "codemirror_mode": {
    "name": "ipython",
    "version": 3
   },
   "file_extension": ".py",
   "mimetype": "text/x-python",
   "name": "python",
   "nbconvert_exporter": "python",
   "pygments_lexer": "ipython3",
   "version": "3.7.4"
  }
 },
 "nbformat": 4,
 "nbformat_minor": 2
}
