{
 "cells": [
  {
   "cell_type": "code",
   "execution_count": null,
   "metadata": {
    "collapsed": true
   },
   "outputs": [],
   "source": [
    "import numpy as np\n",
    "import matplotlib\n",
    "%matplotlib inline\n",
    "import matplotlib.pyplot as plt\n",
    "from mpl_toolkits.mplot3d import Axes3D"
   ]
  },
  {
   "cell_type": "markdown",
   "metadata": {},
   "source": [
    "## Step 1: Load data"
   ]
  },
  {
   "cell_type": "code",
   "execution_count": null,
   "metadata": {
    "collapsed": true
   },
   "outputs": [],
   "source": [
    "def load_dat(filename):\n",
    "    with open(filename, 'r') as fin:\n",
    "        lines = fin.readlines()\n",
    "        dim = len(lines[0].strip().split())\n",
    "        num_samples = len(lines)\n",
    "        data = np.zeros((num_samples, dim))\n",
    "        for i in range(num_samples):\n",
    "            data[i, :] = np.array([float(x) for x in lines[i].strip().split()])\n",
    "        return data "
   ]
  },
  {
   "cell_type": "code",
   "execution_count": null,
   "metadata": {
    "collapsed": true
   },
   "outputs": [],
   "source": [
    "# call the load_dat function to load X and Y from the corresponding input files\n",
    "X =  ### Your code here ###\n",
    "Y =  ### Your code here ###\n",
    "# get some statistics of the data\n",
    "num_samples = X.shape[0] # get the first dimension of X (i.e. number of rows)\n",
    "dim = X.shape[1] # get the second dimension of X (i.e. number of columns)\n",
    "print('X (%d x %d)' %(num_samples, dim))\n",
    "print('Y (%d)' %(num_samples))"
   ]
  },
  {
   "cell_type": "markdown",
   "metadata": {},
   "source": [
    "Visualize the dataset in 3D"
   ]
  },
  {
   "cell_type": "code",
   "execution_count": null,
   "metadata": {
    "collapsed": true
   },
   "outputs": [],
   "source": [
    "fig = plt.figure()\n",
    "ax = fig.add_subplot(111, projection='3d')\n",
    "ax.scatter(xs = X[:, 0], ys = X[:, 1], zs=Y)\n",
    "ax.set_xlabel('X[0]')\n",
    "ax.set_ylabel('Y[1]')\n",
    "ax.set_zlabel('Y')\n",
    "\n",
    "plt.show()"
   ]
  },
  {
   "cell_type": "markdown",
   "metadata": {},
   "source": [
    "## Step 2: Preprocess data"
   ]
  },
  {
   "cell_type": "code",
   "execution_count": null,
   "metadata": {
    "collapsed": true
   },
   "outputs": [],
   "source": [
    "### add intercept term to all samples in X \n",
    "intercept = np.ones([X.shape[0], 1])\n",
    "X = np.hstack([X, intercept])\n",
    "Y = Y.reshape([-1,1]) \n",
    "print('X (%d x %d)' %(num_samples, dim + 1))\n",
    "print('Y (%d x 1)' %(num_samples))"
   ]
  },
  {
   "cell_type": "markdown",
   "metadata": {},
   "source": [
    "## Step 3: Fit the data"
   ]
  },
  {
   "cell_type": "code",
   "execution_count": null,
   "metadata": {
    "collapsed": true
   },
   "outputs": [],
   "source": [
    "### main functions of multivariate linear regression\n",
    "def pseudo_inverse(A):\n",
    "    # The pseudo inverse:\n",
    "    # Input: a matrix A\n",
    "    # Output: the pseudo_inverse of A\n",
    "    ### Your code here ###\n",
    "    \n",
    "    \n",
    "def sse(prediction,reference):\n",
    "    # Calculate the sum of square error between the prediction and reference vectors\n",
    "    ### Your code here ###\n"
   ]
  },
  {
   "cell_type": "code",
   "execution_count": null,
   "metadata": {
    "collapsed": true
   },
   "outputs": [],
   "source": [
    "### estimate beta\n",
    "# call the pseudo_inverse to estimate beta from X and Y\n",
    "beta =  ### Your code here \n",
    "# print the estimated (learned) parameters\n",
    "print(beta)"
   ]
  },
  {
   "cell_type": "markdown",
   "metadata": {},
   "source": [
    "## Step 4: evaluate the model"
   ]
  },
  {
   "cell_type": "code",
   "execution_count": null,
   "metadata": {
    "collapsed": false
   },
   "outputs": [],
   "source": [
    "# calculate the predicted scores\n",
    "prediction =  ### Your code here\n",
    "# calculate the sum of square error\n",
    "error = sse(prediction, Y)\n",
    "print('Sum of square error: %f' %error)"
   ]
  },
  {
   "cell_type": "markdown",
   "metadata": {},
   "source": [
    "## Extra step"
   ]
  },
  {
   "cell_type": "code",
   "execution_count": null,
   "metadata": {
    "collapsed": true
   },
   "outputs": [],
   "source": [
    "# generate synthetic scores \n",
    "Ys = 3 * X[:,0] + 2 * X[:,1] + 0.5 * X[:,2] # generate Ys using a linear function of the features of X\n",
    "# perform multivariate linear regression with X and Ys as inputs\n",
    "beta_2 =  ### Your code here\n",
    "print('beta_2: ', beta_2)\n",
    "# calculate the predicted scores\n",
    "prediction_2 =  ### Your code here\n",
    "# calculate the sum of square error\n",
    "error_2 = sse(prediction_2, Ys) \n",
    "print('Sum of square error: %f' %error_2) "
   ]
  }
 ],
 "metadata": {
  "anaconda-cloud": {},
  "kernelspec": {
   "display_name": "Python 3",
   "language": "python",
   "name": "python3"
  },
  "language_info": {
   "codemirror_mode": {
    "name": "ipython",
    "version": 3
   },
   "file_extension": ".py",
   "mimetype": "text/x-python",
   "name": "python",
   "nbconvert_exporter": "python",
   "pygments_lexer": "ipython3",
   "version": "3.6.0"
  }
 },
 "nbformat": 4,
 "nbformat_minor": 1
}
