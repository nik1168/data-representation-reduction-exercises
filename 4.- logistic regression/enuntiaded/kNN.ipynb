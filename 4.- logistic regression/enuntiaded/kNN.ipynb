{
 "cells": [
  {
   "cell_type": "code",
   "execution_count": null,
   "metadata": {
    "collapsed": true
   },
   "outputs": [],
   "source": [
    "import sklearn\n",
    "from sklearn.datasets import load_digits\n",
    "import numpy as np\n",
    "import time"
   ]
  },
  {
   "cell_type": "code",
   "execution_count": null,
   "metadata": {
    "collapsed": true
   },
   "outputs": [],
   "source": [
    "# Step 1: Load the dataset\n",
    "data = load_digits()\n",
    "print('Classes:' , data.target_names.tolist())\n",
    "X = data.data\n",
    "y = data.target"
   ]
  },
  {
   "cell_type": "code",
   "execution_count": null,
   "metadata": {
    "collapsed": true
   },
   "outputs": [],
   "source": [
    "# Step 2: Split into train and test sets\n",
    "num_samples = X.shape[0]\n",
    "X_tr = ### YOUR CODE HERE ###\n",
    "y_tr = ### YOUR CODE HERE ###\n",
    "X_te = ### YOUR CODE HERE ###\n",
    "y_te = ### YOUR CODE HERE ###"
   ]
  },
  {
   "cell_type": "code",
   "execution_count": null,
   "metadata": {
    "collapsed": true
   },
   "outputs": [],
   "source": [
    "# Step 3: Write function to calculate Euclidean distance \n",
    "# between each row of two matrix \n",
    "def euclidean(A, B):\n",
    "    n, d = A.shape\n",
    "    m, d1 = B.shape\n",
    "    assert d == d1, 'Incompatible shape'\n",
    "    distances = np.zeros((n,m))\n",
    "    ### YOUR CODE HERE ###\n",
    "    return distances"
   ]
  },
  {
   "cell_type": "code",
   "execution_count": null,
   "metadata": {
    "collapsed": true
   },
   "outputs": [],
   "source": [
    "# Step 4: Write function to compare the predictions to \n",
    "# the targets and calculate average accuracy\n",
    "def eval(predictions, targets):\n",
    "    acc = ### YOUR CODE HERE ###\n",
    "    return acc"
   ]
  },
  {
   "cell_type": "code",
   "execution_count": null,
   "metadata": {
    "collapsed": true
   },
   "outputs": [],
   "source": [
    "# Step 5: Perform kNN classification with explicit implementation of Euclidean distance\n",
    "# Note: we use explicit implementation of kNN in this step\n",
    "k = 5\n",
    "st = time.time()\n",
    "distances = euclidean(X_te, X_tr)\n",
    "print('Finish function euclidean in %f seconds' %(time.time() - st))\n",
    "n_test = X_te.shape[0]\n",
    "n_classes = len(np.unique(y_tr))\n",
    "st = time.time()\n",
    "predictions = np.zeros(n_test, dtype=np.int8)\n",
    "for i in range(n_test):\n",
    "    # find indices of the closest neighbors\n",
    "    nn_indices = ### YOUR CODE HERE ### \n",
    "    # increment the vote counts for the class of each closest neighbor\n",
    "    votes = np.zeros(n_classes, dtype=np.int8)\n",
    "    for j in range(k):\n",
    "        ### YOUR CODE HERE ###\n",
    "    # take the class with highest vote as prediction for this sample\n",
    "    ### YOUR CODE HERE ###\n",
    "print('Finish function euclidean in %f seconds' %(time.time() - st))\n",
    "print('Accuracy: %f %%' %(eval(predictions, y_te) * 100))"
   ]
  },
  {
   "cell_type": "code",
   "execution_count": null,
   "metadata": {
    "collapsed": true
   },
   "outputs": [],
   "source": [
    "# Step 6: write function in vectorized form to calculate the Euclidean distance\n",
    "def euclidean_vectorized(A, B):    \n",
    "    n, d = A.shape\n",
    "    m, d1 = B.shape\n",
    "    assert d == d1, 'Incompatible shape'\n",
    "    ### YOUR CODE HERE ###\n",
    "    return distances\n",
    "\n",
    "A = np.random.randn(3,5)\n",
    "B = np.random.randn(4,5)\n",
    "d1 = euclidean(A,B)\n",
    "d2 = euclidean_vectorized(A,B)\n",
    "assert np.allclose(d1,d2), 'Incorrect implementation of either of the two distance functions'"
   ]
  },
  {
   "cell_type": "code",
   "execution_count": null,
   "metadata": {
    "collapsed": true
   },
   "outputs": [],
   "source": [
    "# Step 7: Perform kNN classification with vectorized implementation of Euclidean distance\n",
    "# and vectorized implementation of kNN in this step\n",
    "k = 5\n",
    "\n",
    "### YOUR CODE HERE ###\n",
    "\n",
    "# evaluate your accuracy in this step to see if it's the same as in Step 5"
   ]
  }
 ],
 "metadata": {
  "kernelspec": {
   "display_name": "Python 2",
   "language": "python",
   "name": "python2"
  },
  "language_info": {
   "codemirror_mode": {
    "name": "ipython",
    "version": 2
   },
   "file_extension": ".py",
   "mimetype": "text/x-python",
   "name": "python",
   "nbconvert_exporter": "python",
   "pygments_lexer": "ipython2",
   "version": "2.7.12"
  }
 },
 "nbformat": 4,
 "nbformat_minor": 2
}
