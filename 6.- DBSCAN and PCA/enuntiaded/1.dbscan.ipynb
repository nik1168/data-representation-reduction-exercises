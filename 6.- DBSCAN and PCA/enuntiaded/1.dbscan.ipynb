{
 "cells": [
  {
   "cell_type": "markdown",
   "metadata": {},
   "source": [
    "Setup the notebook"
   ]
  },
  {
   "cell_type": "code",
   "execution_count": null,
   "metadata": {
    "collapsed": true
   },
   "outputs": [],
   "source": [
    "from __future__ import absolute_import, division, print_function\n",
    "import sklearn\n",
    "from sklearn import datasets\n",
    "from sklearn.metrics import silhouette_score\n",
    "import numpy as np \n",
    "import matplotlib.pyplot as plt \n",
    "import copy "
   ]
  },
  {
   "cell_type": "markdown",
   "metadata": {},
   "source": [
    "## Step 1: Load the Digit dataset"
   ]
  },
  {
   "cell_type": "code",
   "execution_count": null,
   "metadata": {
    "collapsed": true
   },
   "outputs": [],
   "source": [
    "digits = datasets.load_digits(n_class=5)\n",
    "X = digits.data\n",
    "print(X.shape)"
   ]
  },
  {
   "cell_type": "markdown",
   "metadata": {},
   "source": [
    "## Step 2: euclidean distance "
   ]
  },
  {
   "cell_type": "code",
   "execution_count": null,
   "metadata": {
    "collapsed": true
   },
   "outputs": [],
   "source": [
    "def euclidean_distances(A, B):\n",
    "    n, d = A.shape\n",
    "    m, d1 = B.shape\n",
    "    assert d == d1, 'Incompatible shape'\n",
    "    distances =  np.sqrt(np.sum(np.square(A[:,np.newaxis]-B), axis=2))\n",
    "    return distances"
   ]
  },
  {
   "cell_type": "markdown",
   "metadata": {},
   "source": [
    "## Step 3: find eps-neighborhood of a point"
   ]
  },
  {
   "cell_type": "code",
   "execution_count": null,
   "metadata": {
    "collapsed": true
   },
   "outputs": [],
   "source": [
    "def find_eps_neighborhood(distances, idx, eps):\n",
    "    ''' \n",
    "    Input arguments:\n",
    "        - distances: a matrix containing distances between all pairs of points in the dataset\n",
    "        - idx: index of the point of interest\n",
    "        - eps: the epsilon parameter\n",
    "    Output:\n",
    "        - Return a set of points in the neighborhood.\n",
    "    '''\n",
    "    ### YOUR CODE HERE ###"
   ]
  },
  {
   "cell_type": "code",
   "execution_count": null,
   "metadata": {
    "collapsed": true
   },
   "outputs": [],
   "source": [
    "def test_find_eps_neighborhood():\n",
    "    distances = np.array([[0, 3, 2], [3, 0, 1], [2, 1, 0]])\n",
    "    eps = 2\n",
    "    idx = 0\n",
    "    return find_eps_neighborhood(distances, idx, eps)\n",
    "\n",
    "print(test_find_eps_neighborhood()) # should return {0, 2}"
   ]
  },
  {
   "cell_type": "markdown",
   "metadata": {},
   "source": [
    "## Step 4: find all reachable points of a given point w.r.t eps "
   ]
  },
  {
   "cell_type": "code",
   "execution_count": null,
   "metadata": {
    "collapsed": true
   },
   "outputs": [],
   "source": [
    "def find_reachable_pts(distances, eps, ind):\n",
    "    eps_neighbors = find_eps_neighborhood(distances, ind, eps)\n",
    "    reachables = eps_neighbors\n",
    "    new_pts = copy.deepcopy(eps_neighbors)\n",
    "    new_pts.remove(ind)\n",
    "    while len(new_pts) > 0:\n",
    "        pt = new_pts.pop() \n",
    "        pt_neighbors = find_eps_neighborhood(distances, pt, eps)\n",
    "        additional_pts = pt_neighbors.difference(reachables)\n",
    "        reachables.update(additional_pts)\n",
    "        new_pts.update(additional_pts)\n",
    "    return reachables"
   ]
  },
  {
   "cell_type": "markdown",
   "metadata": {},
   "source": [
    "## Step 5: DBSCAN algorithm"
   ]
  },
  {
   "cell_type": "code",
   "execution_count": null,
   "metadata": {
    "collapsed": true
   },
   "outputs": [],
   "source": [
    "def dbscan(X, eps, minPts):\n",
    "    ''' a simple implementation of DBSCAN algorithm\n",
    "    In this implementation, a point is represented by its index in the dataset. \n",
    "    In this function, except for the step to calculate the Euclidean distance,\n",
    "    we will only work with the points't indices.\n",
    "    \n",
    "    Input arguments:\n",
    "        - X: the dataset\n",
    "        - eps: the epsilon parameter\n",
    "        - minPts: the minimum number of points for a cluster\n",
    "    Output:\n",
    "        - core_points: a list containing the indices of the core points\n",
    "        - cluster_labels: a Numpy array containing labels for each point in X\n",
    "        - outliers: a set containing the indices of the outlier points\n",
    "    '''\n",
    "    # a list to keep track of the unvisited points\n",
    "    unvisited = set(range(X.shape[0]))\n",
    "    # list of core points (or cluster centroids)\n",
    "    core_points = []\n",
    "    # list of clusters, each cluster is a set of points\n",
    "    clusters = []\n",
    "    # set of outlier points (or noises)\n",
    "    outliers = set()\n",
    "    distances = euclidean_distances(X, X)\n",
    "    \n",
    "    while True:\n",
    "        # randomly choose a point, p, from the list of unvisited points ### YOUR CODE HERE ###\n",
    "        \n",
    "        # find the eps-neighborhood of the chosen point p### YOUR CODE HERE ###\n",
    "        \n",
    "        # check if p is a core point or not### YOUR CODE HERE ###\n",
    "        \n",
    "        if is_core_pt:\n",
    "            # add the chosen index to the core_points list\n",
    "            ### YOUR CODE HERE ###\n",
    "            \n",
    "            # find all reachable points from p w.r.t eps and form a new cluster\n",
    "            ### YOUR CODE HERE ###\n",
    "            \n",
    "            # add the newly formed cluster to the list of cluster\n",
    "            ### YOUR CODE HERE ###\n",
    "\n",
    "            # remove the indices in the new_cluster from the unvisited set and the outlier set,\n",
    "            # if they were added to either those set before\n",
    "            ### YOUR CODE HERE ###\n",
    "\n",
    "        else:\n",
    "            # if not core point, add p to the list of outlier points\n",
    "            ### YOUR CODE HERE ###\n",
    "        \n",
    "        # remove the chosen index from the unvisited set (if it is still inside this list)\n",
    "        ### YOUR CODE HERE ###\n",
    "            \n",
    "        # if there is no point left in the unvisited set, stop the loop\n",
    "        if len(unvisited) == 0:\n",
    "            break\n",
    "    \n",
    "    # convert the resulting cluster list to cluster_labels\n",
    "    cluster_labels = np.zeros(X.shape[0])\n",
    "    for i in range(len(clusters)):\n",
    "        for j in clusters[i]:\n",
    "            cluster_labels[j] = i\n",
    "\n",
    "    return core_points, cluster_labels, outliers"
   ]
  },
  {
   "cell_type": "markdown",
   "metadata": {},
   "source": [
    "## Step 6: Experiment"
   ]
  },
  {
   "cell_type": "code",
   "execution_count": null,
   "metadata": {
    "collapsed": true
   },
   "outputs": [],
   "source": [
    "eps = 20.0\n",
    "minPts = 10\n",
    "core_points, cluster_labels, outliers = dbscan(X, eps, minPts)\n",
    "print('%d clusters found' %(len(core_points)))\n",
    "print('%d outlier points detected' %(len(outliers)))\n",
    "\n",
    "# visualize the clustering result\n",
    "selected_cluster = 1\n",
    "X_cluster_1 = X[cluster_labels == selected_cluster]\n",
    "n_img_per_row = 10\n",
    "img = np.zeros((10 * n_img_per_row, 10 * n_img_per_row))\n",
    "for i in range(n_img_per_row):\n",
    "    ix = 10 * i + 1\n",
    "    for j in range(n_img_per_row):\n",
    "        iy = 10 * j + 1\n",
    "        img_indx = i * n_img_per_row + j\n",
    "        if img_indx < len(X_cluster_1):\n",
    "            img[ix:ix + 8, iy:iy + 8] = X_cluster_1[i * n_img_per_row + j].reshape((8, 8))\n",
    "\n",
    "plt.imshow(img, cmap=plt.cm.binary)\n",
    "plt.xticks([])\n",
    "plt.yticks([])\n",
    "plt.title('A selection of 100 images from cluster {:}'.format(selected_cluster))\n",
    "plt.show()\n",
    "\n",
    "# Calculate the shlhouette score\n",
    "if len(core_points) > 1:\n",
    "    print('Silhouette score: %f' %silhouette_score(X, cluster_labels))\n",
    "else:\n",
    "    print('Cannot evaluate silhouetter score with only one cluster')"
   ]
  }
 ],
 "metadata": {
  "kernelspec": {
   "display_name": "Python 3",
   "language": "python",
   "name": "python3"
  },
  "language_info": {
   "codemirror_mode": {
    "name": "ipython",
    "version": 3
   },
   "file_extension": ".py",
   "mimetype": "text/x-python",
   "name": "python",
   "nbconvert_exporter": "python",
   "pygments_lexer": "ipython3",
   "version": "3.6.0"
  }
 },
 "nbformat": 4,
 "nbformat_minor": 1
}
