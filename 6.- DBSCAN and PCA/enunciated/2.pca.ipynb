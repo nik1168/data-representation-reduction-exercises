{
 "cells": [
  {
   "cell_type": "code",
   "execution_count": null,
   "metadata": {
    "collapsed": true
   },
   "outputs": [],
   "source": [
    "from __future__ import absolute_import, print_function, division\n",
    "from sklearn.datasets import load_digits\n",
    "import matplotlib.pyplot as plt \n",
    "from time import time\n",
    "import numpy as np\n",
    "from numpy import linalg as LA\n",
    "from sklearn.decomposition import PCA"
   ]
  },
  {
   "cell_type": "markdown",
   "metadata": {},
   "source": [
    "## Step 1: Load dataset and remove mean"
   ]
  },
  {
   "cell_type": "code",
   "execution_count": null,
   "metadata": {
    "collapsed": true
   },
   "outputs": [],
   "source": [
    "# load digits dataset\n",
    "digits = load_digits()\n",
    "X = digits.data\n",
    "n_samples, n_features = X.shape\n",
    "print(\"Data shape: \",X.shape)\n",
    "\n",
    "# remove mean by subtracting the mean of variables\n",
    "X_normalized = # YOUR CODE GOES HERE"
   ]
  },
  {
   "cell_type": "markdown",
   "metadata": {},
   "source": [
    "## Step 2: Calculate covariance matrix"
   ]
  },
  {
   "cell_type": "code",
   "execution_count": null,
   "metadata": {
    "collapsed": true
   },
   "outputs": [],
   "source": [
    "# In the lecture the covariance matrix is given by cov(x) = (1/n_samples)x*xt\n",
    "# As we organize data matrix differently (rows are examples), we need to change the formula.\n",
    "COV_X = # YOUR CODE GOES HERE\n",
    "\n",
    "# visualize the covariance matrix, so that we can see the redundancy\n",
    "plt.imshow(COV_X)\n",
    "plt.show()"
   ]
  },
  {
   "cell_type": "markdown",
   "metadata": {},
   "source": [
    "## Step 3: Implement PCA function."
   ]
  },
  {
   "cell_type": "code",
   "execution_count": null,
   "metadata": {
    "collapsed": true
   },
   "outputs": [],
   "source": [
    "# COV_X: Covariance matrix with size (n_features x n_features)\n",
    "# return: Matrix of basic vectors (projection matrix) of size (n_features x n_features) \n",
    "# where columns are eigenvectors of the covariance matrix.\n",
    "# This function employs singular value decomposition.\n",
    "def pca(COV_X):\n",
    "    u,s,v = # YOUR CODE GOES HERE\n",
    "    return u\n",
    "\n",
    "# this function returns the same output as pca but instead of calculating SVD, it directly finds eigenvectors and\n",
    "# eigenvalues of the covariance matrix.\n",
    "def pca2(COV_X):\n",
    "    w,v = # YOUR CODE GOES HERE\n",
    "    # sort eigenvectors by eigenvalues\n",
    "    indices = # YOUR CODE GOES HERE\n",
    "    return v[:,indices]"
   ]
  },
  {
   "cell_type": "markdown",
   "metadata": {},
   "source": [
    "## Step 4: Visualize covariance matrix"
   ]
  },
  {
   "cell_type": "code",
   "execution_count": null,
   "metadata": {
    "collapsed": true
   },
   "outputs": [],
   "source": [
    "# First you have to calculate the new data matrix using the projection matrix. Second, you will visualize its \n",
    "# covariance matrix in the new feature space. The covariance matrix here should be diagonal.\n",
    "\n",
    "# calculate the projection matrix\n",
    "U = pca(COV_X)\n",
    "\n",
    "# calculate projected data\n",
    "Y = # YOUR CODE GOES HERE\n",
    "print(\"Shape Y: \",Y.shape)\n",
    "\n",
    "# calculae covariance matrix of Y\n",
    "COV_Y = # YOUR CODE GOES HERE\n",
    "\n",
    "# visualize covariance matrix of projected data\n",
    "plt.imshow(COV_Y)\n",
    "plt.show()"
   ]
  },
  {
   "cell_type": "markdown",
   "metadata": {},
   "source": [
    "## Step 5: PCA with scikit-learn"
   ]
  },
  {
   "cell_type": "code",
   "execution_count": null,
   "metadata": {
    "collapsed": true
   },
   "outputs": [],
   "source": [
    "# In this tep, you will verify if your implementation is correct. You will use the built-in model PCA from sklearn\n",
    "pca = PCA()\n",
    "Y_PCA = pca.fit_transform(X_normalized)\n",
    "print(\"Shape Y_PCA: \",Y_PCA.shape)\n",
    "plt.imshow((1.0/n_samples) * np.dot(Y_PCA.T,Y_PCA))\n",
    "plt.show()"
   ]
  }
 ],
 "metadata": {
  "kernelspec": {
   "display_name": "Python 3",
   "language": "python",
   "name": "python3"
  },
  "language_info": {
   "codemirror_mode": {
    "name": "ipython",
    "version": 3
   },
   "file_extension": ".py",
   "mimetype": "text/x-python",
   "name": "python",
   "nbconvert_exporter": "python",
   "pygments_lexer": "ipython3",
   "version": "3.6.0"
  }
 },
 "nbformat": 4,
 "nbformat_minor": 2
}
