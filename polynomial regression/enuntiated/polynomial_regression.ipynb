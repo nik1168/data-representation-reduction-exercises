{
 "cells": [
  {
   "cell_type": "code",
   "execution_count": 1,
   "metadata": {},
   "outputs": [
    {
     "ename": "ModuleNotFoundError",
     "evalue": "No module named 'sklearn'",
     "output_type": "error",
     "traceback": [
      "\u001b[0;31m---------------------------------------------------------------------------\u001b[0m",
      "\u001b[0;31mModuleNotFoundError\u001b[0m                       Traceback (most recent call last)",
      "\u001b[0;32m<ipython-input-1-af10b2f13376>\u001b[0m in \u001b[0;36m<module>\u001b[0;34m\u001b[0m\n\u001b[0;32m----> 1\u001b[0;31m \u001b[0;32mfrom\u001b[0m \u001b[0msklearn\u001b[0m \u001b[0;32mimport\u001b[0m \u001b[0mdatasets\u001b[0m\u001b[0;34m\u001b[0m\u001b[0;34m\u001b[0m\u001b[0m\n\u001b[0m\u001b[1;32m      2\u001b[0m \u001b[0;32mimport\u001b[0m \u001b[0mnumpy\u001b[0m \u001b[0;32mas\u001b[0m \u001b[0mnp\u001b[0m\u001b[0;34m\u001b[0m\u001b[0;34m\u001b[0m\u001b[0m\n",
      "\u001b[0;31mModuleNotFoundError\u001b[0m: No module named 'sklearn'"
     ]
    }
   ],
   "source": [
    "from sklearn import datasets\n",
    "import numpy as np"
   ]
  },
  {
   "cell_type": "code",
   "execution_count": 2,
   "metadata": {},
   "outputs": [
    {
     "name": "stdout",
     "output_type": "stream",
     "text": [
      "(506, 13)\n",
      "(506,)\n"
     ]
    }
   ],
   "source": [
    "# load dataset\n",
    "X, y = datasets.load_boston(return_X_y=True)\n",
    "print(X.shape)\n",
    "print(y.shape)"
   ]
  },
  {
   "cell_type": "code",
   "execution_count": 3,
   "metadata": {},
   "outputs": [
    {
     "name": "stdout",
     "output_type": "stream",
     "text": [
      "(506, 14)\n"
     ]
    }
   ],
   "source": [
    "# create virtual features, including\n",
    "#   second degree of the first variable\n",
    "#   second degrees of the eighth variable\n",
    "#   third and second degrees of the eleventh variable\n",
    "### Your code here ###\n",
    "\n",
    "# concatenate the virtual feature to the original features\n",
    "### Your code here ###\n",
    "\n",
    "# add a dimension with all 1 to account for the intercept term\n",
    "interc = np.ones((X.shape[0], 1))\n",
    "X = np.hstack((interc, X))\n",
    "print(X.shape)"
   ]
  },
  {
   "cell_type": "code",
   "execution_count": 4,
   "metadata": {},
   "outputs": [
    {
     "name": "stdout",
     "output_type": "stream",
     "text": [
      "Train/Test: 404/102\n"
     ]
    }
   ],
   "source": [
    "# split training and testing dataset\n",
    "train_ratio = 0.8\n",
    "cutoff = int(X.shape[0] * train_ratio)\n",
    "X_tr = X[:cutoff, :]\n",
    "y_tr = y[:cutoff]\n",
    "X_te = X[cutoff:,:]\n",
    "y_te = y[cutoff:]\n",
    "print('Train/Test: %d/%d' %(X_tr.shape[0], X_te.shape[0]))"
   ]
  },
  {
   "cell_type": "code",
   "execution_count": 5,
   "metadata": {
    "collapsed": true
   },
   "outputs": [],
   "source": [
    "# linear regression using the normal equation\n",
    "def pseudo_inverse(A):\n",
    "    # Calculate the pseudo_inverse of A\n",
    "    pinv = np.matmul(np.linalg.inv(np.matmul(A.T, A)), A.T)\n",
    "    return pinv "
   ]
  },
  {
   "cell_type": "code",
   "execution_count": null,
   "metadata": {
    "collapsed": true
   },
   "outputs": [],
   "source": [
    "# fit the polynomial on the training set\n",
    "beta = ### Your code here ###"
   ]
  },
  {
   "cell_type": "code",
   "execution_count": null,
   "metadata": {
    "collapsed": true
   },
   "outputs": [],
   "source": [
    "# evaluation functions\n",
    "def MSE(prediction,reference):\n",
    "    # Calculate the mean square error between the prediction and reference vectors\n",
    "    mse = ### Your code here ###\n",
    "    return mse \n",
    "\n",
    "def MAE(prediction, reference):\n",
    "    # Calculate the mean absolute error between the prediction and reference vectors\n",
    "    mae = ### Your code here ###\n",
    "    return mae "
   ]
  },
  {
   "cell_type": "code",
   "execution_count": null,
   "metadata": {
    "collapsed": true
   },
   "outputs": [],
   "source": [
    "# make prediction on the testing set\n",
    "pred = ### Your code here ###\n",
    "mse = MSE(pred, y_te)\n",
    "mae = MAE(pred, y_te)\n",
    "print(mse)\n",
    "print(mae)"
   ]
  },
  {
   "cell_type": "code",
   "execution_count": null,
   "metadata": {
    "collapsed": true
   },
   "outputs": [],
   "source": [
    "# regularized linear regression \n",
    "def regularized_pseudo_inverse(A, theta):\n",
    "    # Calculate the regularized pseudo_inverse of A\n",
    "    ### Your code here ###\n",
    "    return pinv "
   ]
  },
  {
   "cell_type": "code",
   "execution_count": null,
   "metadata": {
    "collapsed": true
   },
   "outputs": [],
   "source": [
    "# fit the polynomial, regularized by theta\n",
    "theta = 0.5\n",
    "beta_regularized = ### Your code here ###  "
   ]
  },
  {
   "cell_type": "code",
   "execution_count": null,
   "metadata": {
    "collapsed": true
   },
   "outputs": [],
   "source": [
    "# make prediction on the testing set\n",
    "pred_2 = ### Your code here ###\n",
    "mse = MSE(pred_2, y_te)\n",
    "mae = MAE(pred_2, y_te)\n",
    "print(mse)\n",
    "print(mae)"
   ]
  }
 ],
 "metadata": {
  "anaconda-cloud": {},
  "kernelspec": {
   "display_name": "Python 3",
   "language": "python",
   "name": "python3"
  },
  "language_info": {
   "codemirror_mode": {
    "name": "ipython",
    "version": 3
   },
   "file_extension": ".py",
   "mimetype": "text/x-python",
   "name": "python",
   "nbconvert_exporter": "python",
   "pygments_lexer": "ipython3",
   "version": "3.6.8"
  }
 },
 "nbformat": 4,
 "nbformat_minor": 2
}
