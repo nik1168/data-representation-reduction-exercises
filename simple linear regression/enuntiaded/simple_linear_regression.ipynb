{
 "cells": [
  {
   "cell_type": "markdown",
   "metadata": {},
   "source": [
    "First, setting up the notebook by importing Numpy and Matplotlib"
   ]
  },
  {
   "cell_type": "code",
   "execution_count": 1,
   "metadata": {},
   "outputs": [
    {
     "ename": "ModuleNotFoundError",
     "evalue": "No module named 'matplotlib'",
     "output_type": "error",
     "traceback": [
      "\u001b[0;31m---------------------------------------------------------------------------\u001b[0m",
      "\u001b[0;31mModuleNotFoundError\u001b[0m                       Traceback (most recent call last)",
      "\u001b[0;32m<ipython-input-1-3f4764b47b06>\u001b[0m in \u001b[0;36m<module>\u001b[0;34m\u001b[0m\n\u001b[1;32m      1\u001b[0m \u001b[0;32mimport\u001b[0m \u001b[0mnumpy\u001b[0m \u001b[0;32mas\u001b[0m \u001b[0mnp\u001b[0m\u001b[0;34m\u001b[0m\u001b[0;34m\u001b[0m\u001b[0m\n\u001b[0;32m----> 2\u001b[0;31m \u001b[0;32mimport\u001b[0m \u001b[0mmatplotlib\u001b[0m\u001b[0;34m.\u001b[0m\u001b[0mpyplot\u001b[0m \u001b[0;32mas\u001b[0m \u001b[0mplt\u001b[0m\u001b[0;34m\u001b[0m\u001b[0;34m\u001b[0m\u001b[0m\n\u001b[0m\u001b[1;32m      3\u001b[0m \u001b[0mget_ipython\u001b[0m\u001b[0;34m(\u001b[0m\u001b[0;34m)\u001b[0m\u001b[0;34m.\u001b[0m\u001b[0mrun_line_magic\u001b[0m\u001b[0;34m(\u001b[0m\u001b[0;34m'matplotlib'\u001b[0m\u001b[0;34m,\u001b[0m \u001b[0;34m'inline'\u001b[0m\u001b[0;34m)\u001b[0m\u001b[0;34m\u001b[0m\u001b[0;34m\u001b[0m\u001b[0m\n",
      "\u001b[0;31mModuleNotFoundError\u001b[0m: No module named 'matplotlib'"
     ]
    }
   ],
   "source": [
    "import numpy as np\n",
    "import matplotlib.pyplot as plt\n",
    "%matplotlib inline"
   ]
  },
  {
   "cell_type": "markdown",
   "metadata": {},
   "source": [
    "## Step 1: Generate data"
   ]
  },
  {
   "cell_type": "code",
   "execution_count": null,
   "metadata": {},
   "outputs": [],
   "source": [
    "# generate an array of floats between 0 and 1\n",
    "x = # Write your code here\n",
    "y = 1 + 2*x\n",
    "# plot data\n",
    "plt.plot(x,y,'b')\n",
    "plt.show()"
   ]
  },
  {
   "cell_type": "markdown",
   "metadata": {},
   "source": [
    "## Step 2: Generate noisy data"
   ]
  },
  {
   "cell_type": "code",
   "execution_count": null,
   "metadata": {},
   "outputs": [],
   "source": [
    "# generate random values using normal distribution with mean = 0 and standard deviation = 0.1\n",
    "mu, sigma = 0, 0.1\n",
    "noise = # Write your code here\n",
    "y_noise = y + noise\n",
    "\n",
    "# plot the original data and the noisy data in the same figure\n",
    "plt.plot(x,y,'b',x,y_noise,'rx')\n",
    "plt.show()"
   ]
  },
  {
   "cell_type": "markdown",
   "metadata": {},
   "source": [
    "## Step 3: Find parameters"
   ]
  },
  {
   "cell_type": "markdown",
   "metadata": {},
   "source": [
    "Here you have to use the provided formulas to calculate the parameters theta_0 ($\\theta_0$) and theta_1 ($\\theta_1$)"
   ]
  },
  {
   "cell_type": "code",
   "execution_count": null,
   "metadata": {},
   "outputs": [],
   "source": [
    "# Write your code below\n",
    "theta_1 =\n",
    "theta_0 =\n",
    "\n",
    "z = theta_0 + theta_1 * x\n",
    "\n",
    "# plot the original line and the fitting linear line here on the same graph\n",
    "plt.xlabel('x')\n",
    "plt.ylabel('y')\n",
    "plt.plot(x,y,'b',x,y_noise,'rx',x,z,'g')\n",
    "plt.legend(('Original Data', 'Noisy Data', 'Linear Fit'), loc='lower right')\n",
    "plt.show()"
   ]
  },
  {
   "cell_type": "markdown",
   "metadata": {},
   "source": [
    "## Step 4: Fit multiple lines"
   ]
  },
  {
   "cell_type": "code",
   "execution_count": null,
   "metadata": {
    "collapsed": true
   },
   "outputs": [],
   "source": [
    "plt.subplot(111)\n",
    "num_sigma = 6\n",
    "y_noise = np.zeros((num_sigma,len(x)))\n",
    "z = np.zeros((num_sigma,len(x)))\n",
    "for indx,sigma in enumerate(np.linspace(0,1,num=num_sigma)):\n",
    "    # generate the noise\n",
    "    noise = \n",
    "    y_noise[indx,:] = noise + y\n",
    "    # calculate theta_1 and theta_0\n",
    "    theta_1 =\n",
    "    theta_0 =\n",
    "    z[indx,:] = theta_0 + theta_1*x\n",
    "    # plot the fitting line\n",
    "    plt.plot(x,z[indx,:])\n",
    "plt.xlabel('x')\n",
    "plt.ylabel('y')\n",
    "plt.legend(('0.0','0.2','0.4','0.6','0.8','1.0'), loc='lower right')\n",
    "\n",
    "# reset the color cycle, so that the same color will be used for dots\n",
    "plt.gca().set_prop_cycle(None)\n",
    "# plot dots in the same figure\n",
    "for indx in range(num_sigma):\n",
    "    plt.plot(x,y_noise[indx,:],'.')\n",
    "plt.show()"
   ]
  },
  {
   "cell_type": "markdown",
   "metadata": {},
   "source": [
    "## Step 5: Explore the statistical properties of simple linear regression"
   ]
  },
  {
   "cell_type": "code",
   "execution_count": null,
   "metadata": {
    "collapsed": true
   },
   "outputs": [],
   "source": [
    "mu = 0\n",
    "sigma = 0.1\n",
    "n = 1000\n",
    "params = np.zeros((n,2))\n",
    "for i in range(n):\n",
    "    # genrate the noise\n",
    "    noise = \n",
    "    y_noise = y + noise\n",
    "    # your code goes here\n",
    "    theta_1 =\n",
    "    theta_0 =\n",
    "    params[i,0] = theta_0\n",
    "    params[i,1] = theta_1\n",
    "theta_bar = np.mean(params,axis=0)\n",
    "theta_sd = np.std(params,axis=0)\n",
    "print(\"Mean Theta 0: \",theta_bar[0])\n",
    "print(\"Mean Theta 1: \",theta_bar[1])\n",
    "print(\"STD 0: \",theta_sd[0])\n",
    "print(\"STD 1: \",theta_sd[1])\n",
    "f, axarr = plt.subplots(2, sharex=True)\n",
    "axarr[0].hist(params[:,0],bins=30)\n",
    "axarr[0].set_title('Theta 0')\n",
    "axarr[1].hist(params[:,1],bins=30)\n",
    "axarr[1].set_title('Theta 1')\n",
    "plt.show()"
   ]
  }
 ],
 "metadata": {
  "anaconda-cloud": {},
  "kernelspec": {
   "display_name": "Python 3",
   "language": "python",
   "name": "python3"
  },
  "language_info": {
   "codemirror_mode": {
    "name": "ipython",
    "version": 3
   },
   "file_extension": ".py",
   "mimetype": "text/x-python",
   "name": "python",
   "nbconvert_exporter": "python",
   "pygments_lexer": "ipython3",
   "version": "3.6.8"
  }
 },
 "nbformat": 4,
 "nbformat_minor": 2
}
